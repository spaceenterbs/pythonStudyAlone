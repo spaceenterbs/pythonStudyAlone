{
 "cells": [
  {
   "attachments": {},
   "cell_type": "markdown",
   "metadata": {},
   "source": [
    "### 3.6.1.\t점에서 직선까지의 거리"
   ]
  },
  {
   "cell_type": "code",
   "execution_count": 1,
   "metadata": {},
   "outputs": [
    {
     "data": {
      "text/plain": [
       "5.0"
      ]
     },
     "execution_count": 1,
     "metadata": {},
     "output_type": "execute_result"
    }
   ],
   "source": [
    "import math\n",
    "x = 1\n",
    "y = 6\n",
    "a = 3\n",
    "b = -4\n",
    "c = -4\n",
    "math.fabs(a*x + b*y + c) / math.sqrt(a**2 + b**2)  # 점과 직선의 거리 공식"
   ]
  },
  {
   "cell_type": "code",
   "execution_count": null,
   "metadata": {},
   "outputs": [],
   "source": []
  },
  {
   "cell_type": "markdown",
   "metadata": {},
   "source": [
    "### 3.6.2.\t직선으로 둘러싸인 영역의 면적"
   ]
  },
  {
   "cell_type": "code",
   "execution_count": 2,
   "metadata": {},
   "outputs": [
    {
     "data": {
      "text/plain": [
       "8.999999999999996"
      ]
     },
     "execution_count": 2,
     "metadata": {},
     "output_type": "execute_result"
    }
   ],
   "source": [
    "import math\n",
    "x = [1, 3, 6]   # x좌표（A、B、C의 순서）\n",
    "y = [5, 1, 4]   # y좌표（A、B、C의 순서）\n",
    "\n",
    "a = math.sqrt((x[1]-x[0])**2 + (y[1]-y[0])**2)  # 변AB의 길이\n",
    "b = math.sqrt((x[2]-x[1])**2 + (y[2]-y[1])**2)  # 변BC의 길이\n",
    "c = math.sqrt((x[2]-x[0])**2 + (y[2]-y[0])**2)  # 변AC의 길이\n",
    "\n",
    "s = (a+b+c) / 2\n",
    "math.sqrt(s * (s-a) * (s-b) * (s-c))  # 헤론의 공식"
   ]
  },
  {
   "cell_type": "code",
   "execution_count": null,
   "metadata": {},
   "outputs": [],
   "source": []
  }
 ],
 "metadata": {
  "kernelspec": {
   "display_name": "Python 3",
   "language": "python",
   "name": "python3"
  },
  "language_info": {
   "codemirror_mode": {
    "name": "ipython",
    "version": 3
   },
   "file_extension": ".py",
   "mimetype": "text/x-python",
   "name": "python",
   "nbconvert_exporter": "python",
   "pygments_lexer": "ipython3",
   "version": "3.7.3"
  }
 },
 "nbformat": 4,
 "nbformat_minor": 2
}
