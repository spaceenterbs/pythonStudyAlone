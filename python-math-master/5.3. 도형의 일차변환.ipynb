{
 "cells": [
  {
   "attachments": {},
   "cell_type": "markdown",
   "metadata": {},
   "source": [
    "### 5.3.1.\t벡터와 행렬의 관계"
   ]
  },
  {
   "cell_type": "code",
   "execution_count": 2,
   "metadata": {},
   "outputs": [
    {
     "data": {
      "text/plain": [
       "matrix([[6],\n",
       "        [7]])"
      ]
     },
     "execution_count": 2,
     "metadata": {},
     "output_type": "execute_result"
    }
   ],
   "source": [
    "import numpy as np\n",
    "p = np.matrix([[3], [2]])        # 점P의 좌표\n",
    "A = np.matrix([[2, 0], [1, 2]])  # 변환행렬A\n",
    "A * p"
   ]
  },
  {
   "attachments": {},
   "cell_type": "markdown",
   "metadata": {},
   "source": [
    "#### 코드 5-1  x축에 대해 선대칭이 되도록 이동시키기"
   ]
  },
  {
   "cell_type": "code",
   "execution_count": 3,
   "metadata": {},
   "outputs": [
    {
     "name": "stdout",
     "output_type": "stream",
     "text": [
      "[[ 1  3  3  1]\n",
      " [-1 -1 -2 -1]]\n"
     ]
    },
    {
     "data": {
      "image/png": "[encoded data removed]",
      "text/plain": [
       "<Figure size 432x288 with 1 Axes>"
      ]
     },
     "metadata": {
      "needs_background": "light"
     },
     "output_type": "display_data"
    }
   ],
   "source": [
    "%matplotlib inline\n",
    "import numpy as np\n",
    "import matplotlib.pyplot as plt\n",
    "\n",
    "# 삼각형 ABC의 정점\n",
    "p = np.matrix([[1, 3, 3, 1], [1, 1, 2, 1]])\n",
    "\n",
    "# 변환행렬（x축의 선대칭）\n",
    "A = np.matrix([[1, 0], [0, -1]])\n",
    "\n",
    "# 변환\n",
    "p2 = A * p\n",
    "print(p2)\n",
    "\n",
    "# 그리기\n",
    "p = np.array(p)\n",
    "p2 = np.array(p2)\n",
    "plt.plot(p[0, :], p[1, :])\n",
    "plt.plot(p2[0, :], p2[1, :])\n",
    "plt.axis('equal')\n",
    "plt.grid(color='0.8')\n",
    "plt.show()"
   ]
  },
  {
   "attachments": {},
   "cell_type": "markdown",
   "metadata": {},
   "source": [
    "####  y축에 대해 선대칭"
   ]
  },
  {
   "cell_type": "code",
   "execution_count": 3,
   "metadata": {},
   "outputs": [
    {
     "data": {
      "text/plain": [
       "matrix([[-1, -3, -3],\n",
       "        [ 1,  1,  2]])"
      ]
     },
     "execution_count": 3,
     "metadata": {},
     "output_type": "execute_result"
    }
   ],
   "source": [
    "p = np.matrix([[1, 3, 3], [1, 1, 2]])  # 삼각형ABC의 정점\n",
    "A = np.matrix([[-1, 0], [0, 1]])       # 변환행렬A（y축에 대해 선대칭）\n",
    "A * p"
   ]
  },
  {
   "cell_type": "markdown",
   "metadata": {},
   "source": [
    "#### 좌표 원점(0,0)에 대해 점대칭"
   ]
  },
  {
   "cell_type": "code",
   "execution_count": 4,
   "metadata": {},
   "outputs": [
    {
     "data": {
      "text/plain": [
       "matrix([[-1, -3, -3],\n",
       "        [-1, -1, -2]])"
      ]
     },
     "execution_count": 4,
     "metadata": {},
     "output_type": "execute_result"
    }
   ],
   "source": [
    "p = np.matrix([[1, 3, 3], [1, 1, 2]])  # 삼각형ABC의 정점\n",
    "A = np.matrix([[-1, 0], [0, -1]])      # 변환행렬A（원점에 대해 점대칭）\n",
    "A * p"
   ]
  },
  {
   "cell_type": "markdown",
   "metadata": {},
   "source": [
    "#### 직선 y=x 에 대해 선대칭"
   ]
  },
  {
   "cell_type": "code",
   "execution_count": 5,
   "metadata": {},
   "outputs": [
    {
     "data": {
      "text/plain": [
       "matrix([[-1, -1,  0],\n",
       "        [ 1,  3,  3]])"
      ]
     },
     "execution_count": 5,
     "metadata": {},
     "output_type": "execute_result"
    }
   ],
   "source": [
    "p = ([[1, 3, 3], [-1, -1, 0]])  # 삼각형ABC의 정점\n",
    "A = np.matrix([[0, 1], [1, 0]]) # 변환행렬A（직선y=x에 대해 선대칭）\n",
    "A * p"
   ]
  },
  {
   "cell_type": "code",
   "execution_count": null,
   "metadata": {},
   "outputs": [],
   "source": []
  },
  {
   "cell_type": "markdown",
   "metadata": {},
   "source": [
    "### 5.3.3.\t도형을 확대하고 축소하기"
   ]
  },
  {
   "attachments": {},
   "cell_type": "markdown",
   "metadata": {},
   "source": [
    "#### 코드 5-2 도형의 닮음 확대"
   ]
  },
  {
   "cell_type": "code",
   "execution_count": 6,
   "metadata": {},
   "outputs": [
    {
     "name": "stdout",
     "output_type": "stream",
     "text": [
      "[[3 3 6 3]\n",
      " [9 3 3 9]]\n"
     ]
    },
    {
     "data": {
      "image/png": "[encoded data removed]",
      "text/plain": [
       "<Figure size 432x288 with 1 Axes>"
      ]
     },
     "metadata": {
      "needs_background": "light"
     },
     "output_type": "display_data"
    }
   ],
   "source": [
    "%matplotlib inline\n",
    "import numpy as np\n",
    "import matplotlib.pyplot as plt\n",
    "\n",
    "# 삼각형 ABC의 정점\n",
    "p = np.matrix([[1, 1, 2, 1], [3, 1, 1, 3]])\n",
    "\n",
    "# 변환행렬（3배로 확대）\n",
    "A = np.matrix([[3, 0], [0, 3]])\n",
    "\n",
    "# 변환\n",
    "p2 = A * p\n",
    "print(p2)\n",
    "\n",
    "# 그리기\n",
    "p = np.array(p)\n",
    "p2 = np.array(p2)\n",
    "plt.plot(p[0, :], p[1, :])\n",
    "plt.plot(p2[0, :], p2[1, :])\n",
    "plt.axis('equal')\n",
    "plt.grid(color='0.8')\n",
    "plt.show()"
   ]
  },
  {
   "cell_type": "code",
   "execution_count": null,
   "metadata": {},
   "outputs": [],
   "source": []
  },
  {
   "cell_type": "markdown",
   "metadata": {},
   "source": [
    "### 5.3.4.\t도형 회전시키기"
   ]
  },
  {
   "attachments": {},
   "cell_type": "markdown",
   "metadata": {},
   "source": [
    "#### 코드 5-3 도형 회전시키기"
   ]
  },
  {
   "cell_type": "code",
   "execution_count": 6,
   "metadata": {},
   "outputs": [
    {
     "name": "stdout",
     "output_type": "stream",
     "text": [
      "[[4.44089210e-16 1.41421356e+00 2.82842712e+00 1.41421356e+00\n",
      "  4.44089210e-16]\n",
      " [4.24264069e+00 2.82842712e+00 4.24264069e+00 5.65685425e+00\n",
      "  4.24264069e+00]]\n"
     ]
    },
    {
     "data": {
      "image/png": "[encoded data removed]",
      "text/plain": [
       "<Figure size 432x288 with 1 Axes>"
      ]
     },
     "metadata": {
      "needs_background": "light"
     },
     "output_type": "display_data"
    }
   ],
   "source": [
    "%matplotlib inline\n",
    "import numpy as np\n",
    "import matplotlib.pyplot as plt\n",
    "\n",
    "# 사각형ABCD의 정점\n",
    "p = np.matrix([[3, 3, 5, 5, 3], [3, 1, 1, 3, 3]])\n",
    "\n",
    "# 변환행렬（반시계 방향으로 45도 회전）\n",
    "th = np.radians(45)     # 도수법 -> 호도법\n",
    "A = np.matrix([[np.cos(th), np.sin(-th)], [np.sin(th), np.cos(th)]])\n",
    "\n",
    "# 변환\n",
    "p2 = A * p\n",
    "print(p2)\n",
    "\n",
    "# 그리기\n",
    "p = np.array(p)\n",
    "p2 = np.array(p2)\n",
    "plt.plot(p[0, :], p[1, :])\n",
    "plt.plot(p2[0, :], p2[1, :])\n",
    "plt.axis('equal')\n",
    "plt.grid(color='0.8')\n",
    "plt.show()\n"
   ]
  },
  {
   "cell_type": "code",
   "execution_count": null,
   "metadata": {},
   "outputs": [],
   "source": []
  },
  {
   "attachments": {},
   "cell_type": "markdown",
   "metadata": {},
   "source": [
    "### 5.3.6.\t2 2 행렬이 아닌 3 3 행렬 사용하기"
   ]
  },
  {
   "attachments": {},
   "cell_type": "markdown",
   "metadata": {},
   "source": [
    "#### 코드 5-4 도형을 평행이동"
   ]
  },
  {
   "cell_type": "code",
   "execution_count": 8,
   "metadata": {},
   "outputs": [
    {
     "name": "stdout",
     "output_type": "stream",
     "text": [
      "[[3 5 5 3]\n",
      " [4 4 5 4]\n",
      " [1 1 1 1]]\n"
     ]
    },
    {
     "data": {
      "image/png": "[encoded data removed]",
      "text/plain": [
       "<Figure size 432x288 with 1 Axes>"
      ]
     },
     "metadata": {
      "needs_background": "light"
     },
     "output_type": "display_data"
    }
   ],
   "source": [
    "%matplotlib inline\n",
    "import numpy as np\n",
    "import matplotlib.pyplot as plt\n",
    "\n",
    "# 삼각형ABC의 정점（동차좌표）\n",
    "p = np.matrix([[1, 3, 3, 1], [1, 1, 2, 1],[1, 1, 1, 1]])\n",
    "\n",
    "# 변환행렬（평행이동）\n",
    "A = np.matrix([[1, 0, 2], [0, 1, 3], [0, 0, 1]])\n",
    "\n",
    "# 변환\n",
    "p2 = A * p\n",
    "print(p2)\n",
    "\n",
    "# 그리기\n",
    "p = np.array(p)\n",
    "p2 = np.array(p2)\n",
    "plt.plot(p[0, :], p[1, :])\n",
    "plt.plot(p2[0, :], p2[1, :])\n",
    "plt.axis('equal')\n",
    "plt.grid(color='0.8')\n",
    "plt.show()"
   ]
  },
  {
   "cell_type": "code",
   "execution_count": null,
   "metadata": {},
   "outputs": [],
   "source": []
  },
  {
   "cell_type": "markdown",
   "metadata": {},
   "source": [
    "### 5.3.7.\t일차변환의 조합"
   ]
  },
  {
   "attachments": {},
   "cell_type": "markdown",
   "metadata": {},
   "source": [
    "#### 코드 5-5 일차변환의 조합"
   ]
  },
  {
   "cell_type": "code",
   "execution_count": 7,
   "metadata": {},
   "outputs": [
    {
     "name": "stdout",
     "output_type": "stream",
     "text": [
      "[[-4. -4. -5. -4.]\n",
      " [ 3.  5.  5.  3.]\n",
      " [ 1.  1.  1.  1.]]\n"
     ]
    },
    {
     "data": {
      "image/png": "[encoded data removed]",
      "text/plain": [
       "<Figure size 432x288 with 1 Axes>"
      ]
     },
     "metadata": {
      "needs_background": "light"
     },
     "output_type": "display_data"
    }
   ],
   "source": [
    "%matplotlib inline\n",
    "import numpy as np\n",
    "import matplotlib.pyplot as plt\n",
    "\n",
    "# 삼각형 ABC의 정점（동차좌표）\n",
    "p = np.matrix([[1, 3, 3, 1], [1, 1, 2, 1],[1, 1, 1, 1]])\n",
    "\n",
    "# 변환행렬\n",
    "A = np.matrix([[1, 0, 2], [0, 1, 3], [0, 0, 1]])  # 평행이동\n",
    "th = np.radians(90)\n",
    "B = np.matrix([[np.cos(th), np.sin(-th), 0], [np.sin(th), np.cos(th), 0], [0, 0, 1]])  # 회전행렬\n",
    "\n",
    "# 변환\n",
    "p2 = B * A * p  # 평행이동 → 회전\n",
    "print(p2)\n",
    "\n",
    "# 그리기\n",
    "p = np.array(p)\n",
    "p2 = np.array(p2)\n",
    "plt.plot(p[0, :], p[1, :])\n",
    "plt.plot(p2[0, :], p2[1, :])\n",
    "plt.axis('equal')\n",
    "plt.grid(color='0.8')\n",
    "plt.show()"
   ]
  },
  {
   "cell_type": "markdown",
   "metadata": {},
   "source": [
    "#### 회전 → 평행이동"
   ]
  },
  {
   "cell_type": "code",
   "execution_count": 8,
   "metadata": {},
   "outputs": [
    {
     "name": "stdout",
     "output_type": "stream",
     "text": [
      "[[1 1 0 1]\n",
      " [4 6 6 4]\n",
      " [1 1 1 1]]\n"
     ]
    },
    {
     "data": {
      "image/png": "[encoded data removed]",
      "text/plain": [
       "<Figure size 432x288 with 1 Axes>"
      ]
     },
     "metadata": {
      "needs_background": "light"
     },
     "output_type": "display_data"
    }
   ],
   "source": [
    "%matplotlib inline\n",
    "import numpy as np\n",
    "import matplotlib.pyplot as plt\n",
    "\n",
    "# 삼각형 ABC의 정점（동차좌표）\n",
    "p = np.matrix([[1, 3, 3, 1], [1, 1, 2, 1],[1, 1, 1, 1]])\n",
    "\n",
    "# 변환행렬\n",
    "A = np.matrix([[1, 0, 2], [0, 1, 3], [0, 0, 1]])  # 평행이동\n",
    "th = np.radians(90)\n",
    "B = np.matrix([[np.cos(th), np.sin(-th), 0], [np.sin(th), np.cos(th), 0], [0, 0, 1]])  # 회전행렬\n",
    "\n",
    "# 변환\n",
    "p2 = A * B * p  # 회전 → 평행이동\n",
    "print(p2.astype(np.int64))\n",
    "\n",
    "# 그리기\n",
    "p = np.array(p)\n",
    "p2 = np.array(p2)\n",
    "plt.plot(p[0, :], p[1, :])\n",
    "plt.plot(p2[0, :], p2[1, :])\n",
    "plt.axis('equal')\n",
    "plt.grid(color='0.8')\n",
    "plt.show()"
   ]
  },
  {
   "cell_type": "code",
   "execution_count": null,
   "metadata": {},
   "outputs": [],
   "source": []
  }
 ],
 "metadata": {
  "kernelspec": {
   "display_name": "Python 3",
   "language": "python",
   "name": "python3"
  },
  "language_info": {
   "codemirror_mode": {
    "name": "ipython",
    "version": 3
   },
   "file_extension": ".py",
   "mimetype": "text/x-python",
   "name": "python",
   "nbconvert_exporter": "python",
   "pygments_lexer": "ipython3",
   "version": "3.7.3"
  }
 },
 "nbformat": 4,
 "nbformat_minor": 2
}
