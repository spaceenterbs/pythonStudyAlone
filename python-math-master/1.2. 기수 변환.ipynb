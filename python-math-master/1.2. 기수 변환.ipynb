{
 "cells": [
  {
   "cell_type": "markdown",
   "metadata": {},
   "source": [
    "### 1.2.1.\t10진수에서 2진수로 기수 변환"
   ]
  },
  {
   "cell_type": "markdown",
   "metadata": {},
   "source": [
    "#### 코드 1-1 10진수에서 2진수로 변환하는 'dec2bin' 함수"
   ]
  },
  {
   "cell_type": "code",
   "execution_count": 1,
   "metadata": {},
   "outputs": [],
   "source": [
    "def dec2bin(target):\n",
    "    amari = []   # 나머지를 넣을 리스트\n",
    "\n",
    "    # 나눗셈의 몫이 0이 될 때까지\n",
    "    while target != 0:\n",
    "        amari.append(target % 2) # 나머지\n",
    "        target = target // 2     # 몫\n",
    "\n",
    "    # 리스트에 있는 요소를 역순으로 반환한다\n",
    "    amari.reverse()\n",
    "    return amari"
   ]
  },
  {
   "cell_type": "code",
   "execution_count": 2,
   "metadata": {},
   "outputs": [
    {
     "data": {
      "text/plain": [
       "[1, 1, 0, 1, 0]"
      ]
     },
     "execution_count": 2,
     "metadata": {},
     "output_type": "execute_result"
    }
   ],
   "source": [
    "dec2bin(26)"
   ]
  },
  {
   "cell_type": "code",
   "execution_count": 8,
   "metadata": {},
   "outputs": [
    {
     "data": {
      "text/plain": [
       "'0b11010'"
      ]
     },
     "execution_count": 8,
     "metadata": {},
     "output_type": "execute_result"
    }
   ],
   "source": [
    "bin(26)"
   ]
  },
  {
   "cell_type": "code",
   "execution_count": null,
   "metadata": {},
   "outputs": [],
   "source": []
  },
  {
   "cell_type": "markdown",
   "metadata": {},
   "source": [
    "### 1.2.2.\t10진수에서 16진수로 기수 변환"
   ]
  },
  {
   "cell_type": "markdown",
   "metadata": {},
   "source": [
    "#### 코드 1-2 10진수에서 16진수로 변환하는 'dec2hex' 함수"
   ]
  },
  {
   "cell_type": "code",
   "execution_count": 3,
   "metadata": {},
   "outputs": [],
   "source": [
    "def dec2hex(target):\n",
    "    amari = []  # 나머지를 넣을 리스트\n",
    "\n",
    "    # 나눗셈의 몫이 0이 될 때까지\n",
    "    while target != 0:\n",
    "        amari.append(target % 16)  # 나머지\n",
    "        target = target // 16      # 몫\n",
    "\n",
    "    # 나머지 10～15를 A～F로 변환한다\n",
    "    for i in range(len(amari)):\n",
    "        if amari[i] == 10:     amari[i] = 'A'\n",
    "        elif amari[i] == 11:   amari[i] = 'B'\n",
    "        elif amari[i] == 12:   amari[i] = 'C'\n",
    "        elif amari[i] == 13:   amari[i] = 'D'\n",
    "        elif amari[i] == 14:   amari[i] = 'E'\n",
    "        elif amari[i] == 15:   amari[i] = 'F'\n",
    "        \n",
    "    # 리스트에 있는 요소를 역순으로 반환한다\n",
    "    amari.reverse()\n",
    "    return amari"
   ]
  },
  {
   "cell_type": "code",
   "execution_count": 4,
   "metadata": {},
   "outputs": [
    {
     "data": {
      "text/plain": [
       "[1, 'A']"
      ]
     },
     "execution_count": 4,
     "metadata": {},
     "output_type": "execute_result"
    }
   ],
   "source": [
    "dec2hex(26)"
   ]
  },
  {
   "cell_type": "code",
   "execution_count": 9,
   "metadata": {},
   "outputs": [
    {
     "data": {
      "text/plain": [
       "'0x1a'"
      ]
     },
     "execution_count": 9,
     "metadata": {},
     "output_type": "execute_result"
    }
   ],
   "source": [
    "hex(26)"
   ]
  },
  {
   "cell_type": "code",
   "execution_count": null,
   "metadata": {},
   "outputs": [],
   "source": []
  },
  {
   "cell_type": "markdown",
   "metadata": {},
   "source": [
    "### 1.2.3.\t2진수나 16진수를 10진수로 기수 변환"
   ]
  },
  {
   "cell_type": "code",
   "execution_count": 10,
   "metadata": {},
   "outputs": [
    {
     "data": {
      "text/plain": [
       "26"
      ]
     },
     "execution_count": 10,
     "metadata": {},
     "output_type": "execute_result"
    }
   ],
   "source": [
    "int('0b11010', 2)"
   ]
  },
  {
   "cell_type": "code",
   "execution_count": 11,
   "metadata": {},
   "outputs": [
    {
     "data": {
      "text/plain": [
       "26"
      ]
     },
     "execution_count": 11,
     "metadata": {},
     "output_type": "execute_result"
    }
   ],
   "source": [
    "int('0x1A', 16)"
   ]
  },
  {
   "cell_type": "markdown",
   "metadata": {},
   "source": [
    "#### 코드 1-3 m진수에서 10진수로 변환하는 'any2dec' 함수"
   ]
  },
  {
   "cell_type": "code",
   "execution_count": 5,
   "metadata": {},
   "outputs": [],
   "source": [
    "def any2dec(target, m):\n",
    "    n = len(target)-1 # 지수 최댓값\n",
    "    sum = 0           # 10진수로 변환한 값\n",
    "    \n",
    "    # 문자 수 만큼 반복한다\n",
    "    for i in range(len(target)):\n",
    "        if target[i] == 'A':     num = 10\n",
    "        elif target[i] == 'B':   num = 11\n",
    "        elif target[i] == 'C':   num = 12\n",
    "        elif target[i] == 'D':   num = 13\n",
    "        elif target[i] == 'E':   num = 14\n",
    "        elif target[i] == 'F':   num = 15\n",
    "        else:                    num = int(target[i])\n",
    "            \n",
    "        sum += (m ** n) * num  # \"m의 n승 x 각 행의 값\"의 합계를 낸다\n",
    "        n -= 1  # 무게를 한 개 줄인다\n",
    "    return sum\n"
   ]
  },
  {
   "cell_type": "code",
   "execution_count": 6,
   "metadata": {},
   "outputs": [
    {
     "data": {
      "text/plain": [
       "26"
      ]
     },
     "execution_count": 6,
     "metadata": {},
     "output_type": "execute_result"
    }
   ],
   "source": [
    "any2dec('11010', 2)"
   ]
  },
  {
   "cell_type": "code",
   "execution_count": 7,
   "metadata": {},
   "outputs": [
    {
     "data": {
      "text/plain": [
       "26"
      ]
     },
     "execution_count": 7,
     "metadata": {},
     "output_type": "execute_result"
    }
   ],
   "source": [
    "any2dec('1A', 16)"
   ]
  }
 ],
 "metadata": {
  "kernelspec": {
   "display_name": "Python 3",
   "language": "python",
   "name": "python3"
  },
  "language_info": {
   "codemirror_mode": {
    "name": "ipython",
    "version": 3
   },
   "file_extension": ".py",
   "mimetype": "text/x-python",
   "name": "python",
   "nbconvert_exporter": "python",
   "pygments_lexer": "ipython3",
   "version": "3.7.3"
  }
 },
 "nbformat": 4,
 "nbformat_minor": 2
}
