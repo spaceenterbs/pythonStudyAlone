{
 "cells": [
  {
   "cell_type": "code",
   "execution_count": 1,
   "id": "026b5665",
   "metadata": {},
   "outputs": [
    {
     "name": "stdout",
     "output_type": "stream",
     "text": [
      "Hello world!\n"
     ]
    }
   ],
   "source": [
    "#Hello World!를 출력하시오.\n",
    "print(\"Hello world!\")"
   ]
  },
  {
   "cell_type": "code",
   "execution_count": 20,
   "id": "487bcd3a",
   "metadata": {},
   "outputs": [
    {
     "name": "stdout",
     "output_type": "stream",
     "text": [
      "3\n"
     ]
    },
    {
     "data": {
      "text/plain": [
       "3"
      ]
     },
     "execution_count": 20,
     "metadata": {},
     "output_type": "execute_result"
    }
   ],
   "source": [
    "#variable = int(input())\n",
    "num = int(input())\n",
    "num"
   ]
  },
  {
   "cell_type": "code",
   "execution_count": 30,
   "id": "466aa4ff",
   "metadata": {},
   "outputs": [
    {
     "name": "stdout",
     "output_type": "stream",
     "text": [
      "1 2 3\n"
     ]
    },
    {
     "data": {
      "text/plain": [
       "(1, 2, 3)"
      ]
     },
     "execution_count": 30,
     "metadata": {},
     "output_type": "execute_result"
    }
   ],
   "source": [
    "#a, b, c, d, e = map(int, input().split())\n",
    "a, b, c = map(int, input().split())\n",
    "a, b, c"
   ]
  },
  {
   "cell_type": "code",
   "execution_count": 22,
   "id": "34423322",
   "metadata": {},
   "outputs": [
    {
     "name": "stdout",
     "output_type": "stream",
     "text": [
      "1 3 5 7 9\n"
     ]
    },
    {
     "data": {
      "text/plain": [
       "[1, 3, 5, 7, 9]"
      ]
     },
     "execution_count": 22,
     "metadata": {},
     "output_type": "execute_result"
    }
   ],
   "source": [
    "#variable = list(map(int, input().split()))\n",
    "num = list(map(int, input().split()))\n",
    "num"
   ]
  },
  {
   "cell_type": "code",
   "execution_count": 23,
   "id": "12515f22",
   "metadata": {},
   "outputs": [
    {
     "name": "stdout",
     "output_type": "stream",
     "text": [
      "abcd efgh\n"
     ]
    },
    {
     "data": {
      "text/plain": [
       "('abcd', 'efgh')"
      ]
     },
     "execution_count": 23,
     "metadata": {},
     "output_type": "execute_result"
    }
   ],
   "source": [
    "a, b = input().split()\n",
    "a, b"
   ]
  },
  {
   "cell_type": "code",
   "execution_count": 27,
   "id": "f11fc3bb",
   "metadata": {},
   "outputs": [
    {
     "name": "stdout",
     "output_type": "stream",
     "text": [
      "1\n",
      "2\n",
      "3\n",
      "1\n",
      "2\n",
      "3\n"
     ]
    }
   ],
   "source": [
    "#variable = [input() for _ in range(n)]\n",
    "str = [input() for _ in range(3)]\n",
    "#str = [input() for _ in range(3)]\n",
    "#range 안에 변숫값을 통해 몇 개의 줄을 입력받을지 정할 수 있다.\n",
    "print(str[0])\n",
    "print(str[1])\n",
    "print(str[2])"
   ]
  },
  {
   "cell_type": "code",
   "execution_count": 31,
   "id": "1d6d2cf8",
   "metadata": {},
   "outputs": [
    {
     "name": "stdout",
     "output_type": "stream",
     "text": [
      "0101\n",
      "1010\n",
      "0101\n",
      "1010\n"
     ]
    }
   ],
   "source": [
    "#한 줄에 띄어쓰기 없이 정수를 여러 개 받았을 때, 2차원 배열 형태로 저장하는 방법.\n",
    "#variable = [list(map(int, input()) for _ in range(n)])]\n",
    "arr = [list(map(int, input())) for _ in range(4)]"
   ]
  },
  {
   "cell_type": "code",
   "execution_count": 32,
   "id": "374c1179",
   "metadata": {},
   "outputs": [
    {
     "name": "stdout",
     "output_type": "stream",
     "text": [
      "1 2 3 4 5\n",
      "6\n",
      "7\n"
     ]
    }
   ],
   "source": [
    "#2차원 배열을 입력받기\n",
    "#한 줄에 띄어쓰기가 있는 배열을, 여러 개의 줄을 통해 입력받을 때, 2차원 배열 형태로 저장하는 방법\n",
    "#variable = [list(map(int, input().split())) for _ in range(n)]\n",
    "arr = [list(map(int, input().split())) for _ in range(3)]"
   ]
  },
  {
   "cell_type": "code",
   "execution_count": null,
   "id": "17948b71",
   "metadata": {},
   "outputs": [],
   "source": []
  }
 ],
 "metadata": {
  "kernelspec": {
   "display_name": "Python 3 (ipykernel)",
   "language": "python",
   "name": "python3"
  },
  "language_info": {
   "codemirror_mode": {
    "name": "ipython",
    "version": 3
   },
   "file_extension": ".py",
   "mimetype": "text/x-python",
   "name": "python",
   "nbconvert_exporter": "python",
   "pygments_lexer": "ipython3",
   "version": "3.10.9"
  }
 },
 "nbformat": 4,
 "nbformat_minor": 5
}
