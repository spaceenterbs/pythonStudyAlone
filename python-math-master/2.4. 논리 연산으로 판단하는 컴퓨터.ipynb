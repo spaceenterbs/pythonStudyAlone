{
 "cells": [
  {
   "cell_type": "markdown",
   "metadata": {},
   "source": [
    "### 2.4.1.\t비교 연산"
   ]
  },
  {
   "cell_type": "code",
   "execution_count": 8,
   "metadata": {},
   "outputs": [],
   "source": [
    "a = 5"
   ]
  },
  {
   "cell_type": "code",
   "execution_count": 9,
   "metadata": {},
   "outputs": [
    {
     "data": {
      "text/plain": [
       "False"
      ]
     },
     "execution_count": 9,
     "metadata": {},
     "output_type": "execute_result"
    }
   ],
   "source": [
    "a < 5"
   ]
  },
  {
   "cell_type": "code",
   "execution_count": 10,
   "metadata": {},
   "outputs": [
    {
     "data": {
      "text/plain": [
       "True"
      ]
     },
     "execution_count": 10,
     "metadata": {},
     "output_type": "execute_result"
    }
   ],
   "source": [
    "a <= 5"
   ]
  },
  {
   "cell_type": "markdown",
   "metadata": {},
   "source": [
    "#### 코드 2-2　사탕을 가졌는지 판정하는 'check_candy' 함수"
   ]
  },
  {
   "cell_type": "code",
   "execution_count": 11,
   "metadata": {},
   "outputs": [],
   "source": [
    "def check_candy(item):\n",
    "    if (item & 0b1000) != 0:   # 사탕 플래그가 셋팅돼 있는지 확인한다\n",
    "        print('가지고 있다')\n",
    "    else:\n",
    "        print('가지고 있지 않다')"
   ]
  },
  {
   "cell_type": "code",
   "execution_count": 12,
   "metadata": {},
   "outputs": [
    {
     "name": "stdout",
     "output_type": "stream",
     "text": [
      "가지고 있다\n"
     ]
    }
   ],
   "source": [
    "taro_item = 9\n",
    "check_candy(taro_item)"
   ]
  },
  {
   "cell_type": "code",
   "execution_count": null,
   "metadata": {},
   "outputs": [],
   "source": []
  },
  {
   "cell_type": "markdown",
   "metadata": {},
   "source": [
    "### 2.4.3.\t논리곱(AND 연산)"
   ]
  },
  {
   "cell_type": "markdown",
   "metadata": {},
   "source": [
    "#### 코드 2-3　시험 점수에 따라 레벨을 판정하는 'func_and' 함수"
   ]
  },
  {
   "cell_type": "code",
   "execution_count": 14,
   "metadata": {},
   "outputs": [],
   "source": [
    "def func_and(score):\n",
    "    if score >= 80:                        # socore가 80이상\n",
    "        rank = 'A'\n",
    "    elif (score >= 60) and (score < 80):  # score가 60～79의 범위 안에 있다\n",
    "        rank = 'B'\n",
    "    elif (score >= 40) and (score < 60):  # score가 40～59의 범위 안에 있다\n",
    "        rank = 'C'\n",
    "    else:                                  # 위에 있는 어떤 범위에도 들지 않는다(score가 40미만）\n",
    "        rank = '추시'\n",
    "    return rank"
   ]
  },
  {
   "cell_type": "code",
   "execution_count": 15,
   "metadata": {},
   "outputs": [
    {
     "data": {
      "text/plain": [
       "'B'"
      ]
     },
     "execution_count": 15,
     "metadata": {},
     "output_type": "execute_result"
    }
   ],
   "source": [
    "rank = func_and(78)\n",
    "rank"
   ]
  },
  {
   "cell_type": "code",
   "execution_count": null,
   "metadata": {},
   "outputs": [],
   "source": []
  },
  {
   "cell_type": "markdown",
   "metadata": {},
   "source": [
    "### 2.4.4.\t논리합(OR 연산)"
   ]
  },
  {
   "cell_type": "markdown",
   "metadata": {},
   "source": [
    "#### 코드 2-4　Y 또는 y가 입력됐는지 여부를 조사하는 'func_or' 함수"
   ]
  },
  {
   "cell_type": "code",
   "execution_count": 6,
   "metadata": {},
   "outputs": [],
   "source": [
    "def func_or():\n",
    "    a = input('개를 좋아하십니까?（Y/N）... ')   # 키 입력을 부탁하는 메시지를 표시한다\n",
    "    if (a == 'Y') or (a == 'y'):  #  'Y' 또는 'y'가 입력됐을 때\n",
    "        print('예')\n",
    "    else:                         # 위의 모든 조건을 만족하지 않을 경우\n",
    "        print('아니오')"
   ]
  },
  {
   "cell_type": "code",
   "execution_count": 7,
   "metadata": {},
   "outputs": [
    {
     "name": "stdout",
     "output_type": "stream",
     "text": [
      "개를 좋아하십니까?（Y/N）... y\n",
      "예\n"
     ]
    }
   ],
   "source": [
    "func_or()"
   ]
  }
 ],
 "metadata": {
  "kernelspec": {
   "display_name": "Python 3",
   "language": "python",
   "name": "python3"
  },
  "language_info": {
   "codemirror_mode": {
    "name": "ipython",
    "version": 3
   },
   "file_extension": ".py",
   "mimetype": "text/x-python",
   "name": "python",
   "nbconvert_exporter": "python",
   "pygments_lexer": "ipython3",
   "version": "3.7.3"
  }
 },
 "nbformat": 4,
 "nbformat_minor": 2
}
