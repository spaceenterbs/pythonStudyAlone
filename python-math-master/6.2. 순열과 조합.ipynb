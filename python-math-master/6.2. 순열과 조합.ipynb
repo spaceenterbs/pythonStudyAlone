{
 "cells": [
  {
   "attachments": {},
   "cell_type": "markdown",
   "metadata": {},
   "source": [
    "### 6.2.2　경우의 수를 구하는 법"
   ]
  },
  {
   "cell_type": "code",
   "execution_count": 1,
   "metadata": {},
   "outputs": [
    {
     "data": {
      "text/plain": [
       "7"
      ]
     },
     "execution_count": 1,
     "metadata": {},
     "output_type": "execute_result"
    }
   ],
   "source": [
    "# 집합의 요소 수\n",
    "A = {2, 4, 6, 8, 10}\n",
    "B = {3, 6, 9}\n",
    "len(A | B)"
   ]
  },
  {
   "cell_type": "code",
   "execution_count": null,
   "metadata": {},
   "outputs": [],
   "source": []
  },
  {
   "cell_type": "markdown",
   "metadata": {},
   "source": [
    "### 6.2.3　순열"
   ]
  },
  {
   "cell_type": "code",
   "execution_count": 2,
   "metadata": {},
   "outputs": [
    {
     "data": {
      "text/plain": [
       "60"
      ]
     },
     "execution_count": 2,
     "metadata": {},
     "output_type": "execute_result"
    }
   ],
   "source": [
    "import itertools\n",
    "num = {1, 2, 3, 4, 5}  # 데이터를 정의한다\n",
    "A = set(itertools.permutations(num, 3))  # num에서 세 개를 선택하는 순열로 집합을 생성한다\n",
    "len(A)  # A의 요소 수"
   ]
  },
  {
   "cell_type": "code",
   "execution_count": 3,
   "metadata": {},
   "outputs": [
    {
     "name": "stdout",
     "output_type": "stream",
     "text": [
      "(2, 3, 5)\n",
      "(3, 5, 4)\n",
      "(1, 5, 3)\n",
      "(1, 3, 2)\n",
      "(5, 3, 4)\n",
      "(4, 3, 5)\n",
      "(1, 5, 2)\n",
      "(4, 3, 2)\n",
      "(1, 4, 5)\n",
      "(3, 4, 1)\n",
      "(1, 4, 2)\n",
      "(5, 2, 1)\n",
      "(5, 1, 4)\n",
      "(2, 4, 1)\n",
      "(3, 4, 2)\n",
      "(1, 4, 3)\n",
      "(2, 3, 1)\n",
      "(4, 3, 1)\n",
      "(5, 2, 3)\n",
      "(2, 4, 3)\n",
      "(3, 1, 5)\n",
      "(3, 1, 4)\n",
      "(5, 4, 2)\n",
      "(2, 4, 5)\n",
      "(4, 1, 5)\n",
      "(4, 5, 1)\n",
      "(5, 4, 3)\n",
      "(5, 1, 3)\n",
      "(3, 1, 2)\n",
      "(4, 5, 2)\n",
      "(2, 5, 3)\n",
      "(5, 1, 2)\n",
      "(3, 2, 1)\n",
      "(2, 1, 4)\n",
      "(4, 5, 3)\n",
      "(5, 4, 1)\n",
      "(1, 2, 3)\n",
      "(2, 1, 5)\n",
      "(2, 5, 1)\n",
      "(4, 2, 5)\n",
      "(1, 2, 4)\n",
      "(3, 5, 2)\n",
      "(5, 3, 2)\n",
      "(3, 2, 4)\n",
      "(2, 1, 3)\n",
      "(1, 2, 5)\n",
      "(4, 1, 2)\n",
      "(3, 5, 1)\n",
      "(1, 5, 4)\n",
      "(5, 3, 1)\n",
      "(3, 2, 5)\n",
      "(2, 5, 4)\n",
      "(4, 1, 3)\n",
      "(4, 2, 1)\n",
      "(1, 3, 5)\n",
      "(5, 2, 4)\n",
      "(1, 3, 4)\n",
      "(3, 4, 5)\n",
      "(2, 3, 4)\n",
      "(4, 2, 3)\n"
     ]
    }
   ],
   "source": [
    "for a in A:\n",
    "    print(a)"
   ]
  },
  {
   "cell_type": "code",
   "execution_count": null,
   "metadata": {},
   "outputs": [],
   "source": []
  },
  {
   "cell_type": "markdown",
   "metadata": {},
   "source": [
    "### 6.2.4　팩토리얼"
   ]
  },
  {
   "cell_type": "code",
   "execution_count": 4,
   "metadata": {},
   "outputs": [
    {
     "data": {
      "text/plain": [
       "120"
      ]
     },
     "execution_count": 4,
     "metadata": {},
     "output_type": "execute_result"
    }
   ],
   "source": [
    "num = {1, 2, 3, 4, 5}  # 데이터를 정의한다\n",
    "A = set(itertools.permutations(num, 5))  # num에서 다섯 개를 선택하는 순열\n",
    "len(A)"
   ]
  },
  {
   "cell_type": "code",
   "execution_count": 5,
   "metadata": {},
   "outputs": [
    {
     "data": {
      "text/plain": [
       "120"
      ]
     },
     "execution_count": 5,
     "metadata": {},
     "output_type": "execute_result"
    }
   ],
   "source": [
    "import math\n",
    "math.factorial(5)  # 5 팩토리얼"
   ]
  },
  {
   "cell_type": "code",
   "execution_count": null,
   "metadata": {},
   "outputs": [],
   "source": []
  },
  {
   "cell_type": "markdown",
   "metadata": {},
   "source": [
    "### 6.2.5　중복순열"
   ]
  },
  {
   "cell_type": "code",
   "execution_count": 6,
   "metadata": {},
   "outputs": [
    {
     "data": {
      "text/plain": [
       "125"
      ]
     },
     "execution_count": 6,
     "metadata": {},
     "output_type": "execute_result"
    }
   ],
   "source": [
    "num = {1, 2, 3, 4, 5}  # 데이터를 정의한다\n",
    "A = set(itertools.product(num, num, num))  # num에서 세 개를 선택하는 중복순열\n",
    "len(A)"
   ]
  },
  {
   "cell_type": "code",
   "execution_count": 7,
   "metadata": {},
   "outputs": [
    {
     "name": "stdout",
     "output_type": "stream",
     "text": [
      "(4, 2, 2)\n",
      "(1, 4, 4)\n",
      "(2, 2, 4)\n",
      "(5, 5, 1)\n",
      "(5, 2, 1)\n",
      "(1, 4, 2)\n",
      "(5, 5, 3)\n",
      "(5, 2, 3)\n",
      "(5, 5, 5)\n",
      "(3, 1, 4)\n",
      "(3, 2, 2)\n",
      "(4, 1, 5)\n",
      "(3, 1, 2)\n",
      "(2, 5, 3)\n",
      "(1, 2, 2)\n",
      "(2, 5, 1)\n",
      "(4, 1, 1)\n",
      "(1, 2, 4)\n",
      "(5, 3, 2)\n",
      "(1, 5, 5)\n",
      "(3, 2, 4)\n",
      "(4, 1, 3)\n",
      "(2, 5, 5)\n",
      "(1, 3, 5)\n",
      "(1, 5, 1)\n",
      "(3, 4, 5)\n",
      "(2, 3, 4)\n",
      "(1, 3, 3)\n",
      "(4, 3, 4)\n",
      "(5, 3, 4)\n",
      "(1, 5, 3)\n",
      "(1, 3, 1)\n",
      "(4, 3, 2)\n",
      "(3, 3, 1)\n",
      "(5, 1, 5)\n",
      "(3, 4, 1)\n",
      "(3, 3, 3)\n",
      "(3, 4, 3)\n",
      "(2, 3, 2)\n",
      "(3, 3, 5)\n",
      "(2, 4, 2)\n",
      "(5, 1, 1)\n",
      "(5, 4, 3)\n",
      "(5, 1, 3)\n",
      "(2, 4, 4)\n",
      "(4, 5, 2)\n",
      "(5, 4, 1)\n",
      "(4, 5, 4)\n",
      "(2, 1, 5)\n",
      "(4, 2, 5)\n",
      "(3, 5, 2)\n",
      "(2, 2, 3)\n",
      "(2, 1, 3)\n",
      "(5, 4, 5)\n",
      "(2, 2, 1)\n",
      "(4, 4, 5)\n",
      "(2, 1, 1)\n",
      "(4, 2, 1)\n",
      "(1, 1, 2)\n",
      "(5, 2, 4)\n",
      "(4, 4, 3)\n",
      "(4, 2, 3)\n",
      "(1, 1, 4)\n",
      "(3, 5, 4)\n",
      "(2, 2, 5)\n",
      "(4, 4, 1)\n",
      "(1, 4, 5)\n",
      "(5, 2, 2)\n",
      "(1, 4, 3)\n",
      "(5, 5, 2)\n",
      "(3, 1, 5)\n",
      "(1, 4, 1)\n",
      "(4, 1, 4)\n",
      "(5, 5, 4)\n",
      "(3, 1, 3)\n",
      "(3, 2, 3)\n",
      "(2, 5, 2)\n",
      "(1, 2, 1)\n",
      "(3, 1, 1)\n",
      "(3, 2, 1)\n",
      "(1, 2, 3)\n",
      "(5, 3, 3)\n",
      "(4, 1, 2)\n",
      "(1, 2, 5)\n",
      "(5, 3, 1)\n",
      "(1, 5, 4)\n",
      "(3, 2, 5)\n",
      "(2, 5, 4)\n",
      "(3, 4, 4)\n",
      "(1, 3, 4)\n",
      "(5, 3, 5)\n",
      "(2, 3, 5)\n",
      "(1, 3, 2)\n",
      "(4, 3, 5)\n",
      "(1, 5, 2)\n",
      "(4, 3, 3)\n",
      "(5, 1, 4)\n",
      "(2, 4, 1)\n",
      "(3, 4, 2)\n",
      "(2, 3, 1)\n",
      "(4, 3, 1)\n",
      "(3, 3, 2)\n",
      "(2, 4, 3)\n",
      "(2, 3, 3)\n",
      "(5, 4, 2)\n",
      "(3, 3, 4)\n",
      "(2, 4, 5)\n",
      "(4, 5, 1)\n",
      "(5, 1, 2)\n",
      "(4, 5, 3)\n",
      "(2, 1, 4)\n",
      "(3, 5, 3)\n",
      "(4, 5, 5)\n",
      "(2, 1, 2)\n",
      "(4, 2, 4)\n",
      "(1, 1, 1)\n",
      "(5, 4, 4)\n",
      "(3, 5, 1)\n",
      "(2, 2, 2)\n",
      "(1, 1, 3)\n",
      "(4, 4, 4)\n",
      "(1, 1, 5)\n",
      "(5, 2, 5)\n",
      "(3, 5, 5)\n",
      "(4, 4, 2)\n"
     ]
    }
   ],
   "source": [
    "for a in A:\n",
    "    print(a)"
   ]
  },
  {
   "cell_type": "code",
   "execution_count": null,
   "metadata": {},
   "outputs": [],
   "source": []
  },
  {
   "cell_type": "markdown",
   "metadata": {},
   "source": [
    "### 6.2.6　조합"
   ]
  },
  {
   "cell_type": "code",
   "execution_count": 8,
   "metadata": {},
   "outputs": [
    {
     "data": {
      "text/plain": [
       "10"
      ]
     },
     "execution_count": 8,
     "metadata": {},
     "output_type": "execute_result"
    }
   ],
   "source": [
    "num = {1, 2, 3, 4, 5}  # 데이터를 정의한다\n",
    "A = set(itertools.combinations(num, 3))  # num에서 세 개를 선택하는 조합\n",
    "len(A)"
   ]
  },
  {
   "cell_type": "code",
   "execution_count": 9,
   "metadata": {},
   "outputs": [
    {
     "name": "stdout",
     "output_type": "stream",
     "text": [
      "(2, 3, 5)\n",
      "(1, 2, 3)\n",
      "(1, 3, 5)\n",
      "(1, 4, 5)\n",
      "(1, 2, 4)\n",
      "(1, 3, 4)\n",
      "(2, 4, 5)\n",
      "(3, 4, 5)\n",
      "(2, 3, 4)\n",
      "(1, 2, 5)\n"
     ]
    }
   ],
   "source": [
    "for a in A: \n",
    "    print(a)"
   ]
  },
  {
   "cell_type": "markdown",
   "metadata": {},
   "source": [
    "#### 두 주사위를 동시에 던졌을 때 나오는 숫자의 패턴"
   ]
  },
  {
   "cell_type": "code",
   "execution_count": 10,
   "metadata": {},
   "outputs": [
    {
     "data": {
      "text/plain": [
       "21"
      ]
     },
     "execution_count": 10,
     "metadata": {},
     "output_type": "execute_result"
    }
   ],
   "source": [
    "dice = {1, 2, 3, 4, 5, 6}  # 주사위의 숫자를 정의한다\n",
    "A = set(itertools.combinations(dice, 2))  # dice에서 두 개를 선택하는 조합\n",
    "len_A =len(A)  # 조합은 몇 가지 패턴이 있는가?\n",
    "len_A+6        # 조합의 경우의 수＋두 주사위의 숫자가 같아질 경우의 수"
   ]
  },
  {
   "cell_type": "code",
   "execution_count": null,
   "metadata": {},
   "outputs": [],
   "source": []
  }
 ],
 "metadata": {
  "kernelspec": {
   "display_name": "Python 3",
   "language": "python",
   "name": "python3"
  },
  "language_info": {
   "codemirror_mode": {
    "name": "ipython",
    "version": 3
   },
   "file_extension": ".py",
   "mimetype": "text/x-python",
   "name": "python",
   "nbconvert_exporter": "python",
   "pygments_lexer": "ipython3",
   "version": "3.7.3"
  }
 },
 "nbformat": 4,
 "nbformat_minor": 2
}
