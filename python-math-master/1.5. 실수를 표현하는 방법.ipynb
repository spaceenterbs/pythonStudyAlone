{
 "cells": [
  {
   "cell_type": "markdown",
   "metadata": {},
   "source": [
    "### 1.5.2.\t실수를 기수 변환"
   ]
  },
  {
   "cell_type": "markdown",
   "metadata": {},
   "source": [
    "#### 코드 1-4 10진수에서 2진수로 변환하는 'dec2bin_ex' 함수(실수 변환을 지원하는 버전)"
   ]
  },
  {
   "cell_type": "code",
   "execution_count": 1,
   "metadata": {},
   "outputs": [],
   "source": [
    "def dec2bin_ex(target):\n",
    "    # target을 정수부와 소수부로 구분한다\n",
    "    i = int(target)  # 정수부\n",
    "    f = target - i   # 소수부\n",
    "    \n",
    "    # 정수부를 2진수로 변환\n",
    "    a = []  # 나머지를 넣을 리스트\n",
    "\n",
    "    # 나눗셈의 몫이 0이 될 때까지\n",
    "    while i != 0:\n",
    "        a.append(i % 2)  # 나머지\n",
    "        i = i // 2       # 몫\n",
    "\n",
    "    # 요소를 역순으로 바꾼다\n",
    "    a.reverse()\n",
    "    \n",
    "    #소수부를 2진수로 변환\n",
    "    b = []  # 정수부를 넣을 리스트\n",
    "    n = 0   # 반복한 횟수\n",
    "\n",
    "    # 2를 곱한 후에 얻어진 소수부가 0이 될 때까지\n",
    "    while (f != 0):\n",
    "        temp = f * 2          # 소수부×2\n",
    "        b.append(int(temp))   # 정수부\n",
    "        f = temp - int(temp)  # 소수부\n",
    "        n += 1 \n",
    "        if (n >= 10):\n",
    "            break\n",
    "    \n",
    "    # 2진수로 변환한 값\n",
    "    return a, b"
   ]
  },
  {
   "cell_type": "code",
   "execution_count": 2,
   "metadata": {},
   "outputs": [
    {
     "data": {
      "text/plain": [
       "([1, 0, 1, 0], [1, 0, 1])"
      ]
     },
     "execution_count": 2,
     "metadata": {},
     "output_type": "execute_result"
    }
   ],
   "source": [
    "dec2bin_ex(10.625)"
   ]
  }
 ],
 "metadata": {
  "kernelspec": {
   "display_name": "Python 3",
   "language": "python",
   "name": "python3"
  },
  "language_info": {
   "codemirror_mode": {
    "name": "ipython",
    "version": 3
   },
   "file_extension": ".py",
   "mimetype": "text/x-python",
   "name": "python",
   "nbconvert_exporter": "python",
   "pygments_lexer": "ipython3",
   "version": "3.7.3"
  }
 },
 "nbformat": 4,
 "nbformat_minor": 2
}
