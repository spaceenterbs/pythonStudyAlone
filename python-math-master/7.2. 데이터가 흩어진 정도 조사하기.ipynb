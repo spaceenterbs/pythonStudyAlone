{
 "cells": [
  {
   "attachments": {},
   "cell_type": "markdown",
   "metadata": {},
   "source": [
    "### 7.2.1.\t분산과 표준편차"
   ]
  },
  {
   "cell_type": "code",
   "execution_count": 1,
   "metadata": {},
   "outputs": [
    {
     "data": {
      "text/plain": [
       "0.0"
      ]
     },
     "execution_count": 1,
     "metadata": {},
     "output_type": "execute_result"
    }
   ],
   "source": [
    "import numpy as np\n",
    "owner = [94, 105, 107, 106, 88]  # 사장님의 데이터\n",
    "mean = np.mean(owner)            # 평균\n",
    "sum = 0\n",
    "for d in owner:\n",
    "    sum = sum + (d - mean) # '데이터 평균'의 합계를 구한다\n",
    "sum"
   ]
  },
  {
   "cell_type": "code",
   "execution_count": 2,
   "metadata": {},
   "outputs": [
    {
     "data": {
      "text/plain": [
       "290.0"
      ]
     },
     "execution_count": 2,
     "metadata": {},
     "output_type": "execute_result"
    }
   ],
   "source": [
    "# '데이터 평균'의 제곱\n",
    "sum = 0\n",
    "for d in owner:\n",
    "    sum = sum + (d - mean)**2  # '데이터 평균'우 제곱의 합계\n",
    "sum"
   ]
  },
  {
   "cell_type": "code",
   "execution_count": 3,
   "metadata": {},
   "outputs": [
    {
     "data": {
      "text/plain": [
       "(58.0, 7.615773105863909)"
      ]
     },
     "execution_count": 3,
     "metadata": {},
     "output_type": "execute_result"
    }
   ],
   "source": [
    "# 분산과 표준편차\n",
    "import math\n",
    "variance = sum / 5          # 분산\n",
    "stdev = math.sqrt(variance) # 표준편차\n",
    "variance, stdev"
   ]
  },
  {
   "attachments": {},
   "cell_type": "markdown",
   "metadata": {},
   "source": [
    "#### 코드 7-4 도수분포도 그리기"
   ]
  },
  {
   "cell_type": "code",
   "execution_count": 4,
   "metadata": {},
   "outputs": [
    {
     "data": {
      "image/png": "[encoded data removed]",
      "text/plain": [
       "<Figure size 432x288 with 1 Axes>"
      ]
     },
     "metadata": {
      "needs_background": "light"
     },
     "output_type": "display_data"
    }
   ],
   "source": [
    "%matplotlib inline\n",
    "import matplotlib.pyplot as plt\n",
    "import pandas as pd\n",
    "\n",
    "# 데이터를 읽는다\n",
    "dat = pd.read_csv('kimbab.csv', encoding='UTF-8')\n",
    "\n",
    "# 도수분포표\n",
    "plt.hist(dat['사장님'], bins=range(0, 200, 10), alpha=0.5)\n",
    "plt.hist(dat['철수'], bins=range(0, 200, 10), alpha=0.5) \n",
    "plt.show()"
   ]
  },
  {
   "attachments": {},
   "cell_type": "markdown",
   "metadata": {},
   "source": [
    "#### 코드 7-5 평균, 분산, 표준편차 구하기"
   ]
  },
  {
   "cell_type": "code",
   "execution_count": 5,
   "metadata": {},
   "outputs": [
    {
     "name": "stdout",
     "output_type": "stream",
     "text": [
      "사장님---------\n",
      "평균: 98.29\n",
      "분산: 59.5859\n",
      "표준편차: 7.719190372053276\n",
      "철수---------\n",
      "평균: 101.23\n",
      "분산: 522.0771\n",
      "표준편차: 22.849006542954992\n"
     ]
    }
   ],
   "source": [
    "import numpy as np\n",
    "print('사장님---------')\n",
    "print('평균:', np.mean(dat['사장님']))\n",
    "print('분산:', np.var(dat['사장님']))\n",
    "print('표준편차:', np.std(dat['사장님']))\n",
    "\n",
    "print('철수---------')\n",
    "print('평균:', np.mean(dat['철수']))\n",
    "print('분산:', np.var(dat['철수']))\n",
    "print('표준편차:', np.std(dat['철수']))"
   ]
  },
  {
   "cell_type": "code",
   "execution_count": null,
   "metadata": {},
   "outputs": [],
   "source": []
  },
  {
   "attachments": {},
   "cell_type": "markdown",
   "metadata": {},
   "source": [
    "### 7.2.2.\t표준 점수"
   ]
  },
  {
   "cell_type": "code",
   "execution_count": 6,
   "metadata": {},
   "outputs": [
    {
     "data": {
      "text/plain": [
       "57.0"
      ]
     },
     "execution_count": 6,
     "metadata": {},
     "output_type": "execute_result"
    }
   ],
   "source": [
    "# 편삿값을 계산한다\n",
    "def dev_value(score, mean, stdev):\n",
    "    return (score - mean) / stdev * 10 + 50\n",
    "\n",
    "# 4월의 편삿값\n",
    "dev_value(320, 278, 60)"
   ]
  },
  {
   "cell_type": "code",
   "execution_count": 8,
   "metadata": {},
   "outputs": [
    {
     "data": {
      "text/plain": [
       "57.0"
      ]
     },
     "execution_count": 8,
     "metadata": {},
     "output_type": "execute_result"
    }
   ],
   "source": [
    "# 9월의 편삿값\n",
    "dev_value(430, 388, 60)"
   ]
  },
  {
   "cell_type": "code",
   "execution_count": null,
   "metadata": {},
   "outputs": [],
   "source": []
  }
 ],
 "metadata": {
  "kernelspec": {
   "display_name": "Python 3",
   "language": "python",
   "name": "python3"
  },
  "language_info": {
   "codemirror_mode": {
    "name": "ipython",
    "version": 3
   },
   "file_extension": ".py",
   "mimetype": "text/x-python",
   "name": "python",
   "nbconvert_exporter": "python",
   "pygments_lexer": "ipython3",
   "version": "3.7.3"
  }
 },
 "nbformat": 4,
 "nbformat_minor": 2
}
